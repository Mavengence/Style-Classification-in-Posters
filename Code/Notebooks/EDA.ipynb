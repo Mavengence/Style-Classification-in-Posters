{
 "cells": [
  {
   "cell_type": "markdown",
   "metadata": {},
   "source": [
    "<center>\n",
    "    <h3>Pattern Recognition Lab</h3>\n",
    "    <hr>\n",
    "    <br>\n",
    "    <div style=\"margin:0 60px 0px 0\">\n",
    "        <img src=\"https://www5.cs.fau.de/images/lme.jpg\" alt=\"PA\" width=150px align=center>\n",
    "    </div>\n",
    "    <h1>Style Classification in Posters</h1>\n",
    "    <h2>Exploratory Data Analysis (EDA)</h2>\n",
    "    <hr>\n",
    "    <h3>Tim Löhr</h3>\n",
    "    <br>\n",
    "</center>"
   ]
  },
  {
   "cell_type": "markdown",
   "metadata": {},
   "source": [
    ">  \n",
    "      - Style classification using WikiArt\n",
    "      - Crawl WikiArt (images+styles)\n",
    "      - Train DL-based network w. WikiArt data\n",
    "      - Apply to poster data\n",
    "\n",
    "**Table of Contents** `(clickable)`\n",
    "- [1.0 - Data Loading](#1)\n",
    "- [2.0 - Generate Pandas DataFrame](#2)\n",
    "- [3.0 - Generate Pandas DataFrame](#3)\n",
    "- [4.0 - Data Analysis](#4)\n",
    "    - [4.1 - Artworks distribution](#4.1)\n",
    "    - [4.2 - Year distribution](#4.2)\n",
    "    - [4.3 - Style distribution](#4.3)\n",
    "    - [4.4 - Style distribution](#4.4)\n",
    "- [5.0 - Conclusion](#5)"
   ]
  },
  {
   "cell_type": "code",
   "execution_count": 1,
   "metadata": {},
   "outputs": [],
   "source": [
    "import numpy as np\n",
    "import pandas as pd\n",
    "import seaborn as sns\n",
    "import json\n",
    "import os\n",
    "import sys\n",
    "import requests\n",
    "\n",
    "import matplotlib.pyplot as plt\n",
    "\n",
    "import warnings\n",
    "warnings.filterwarnings('ignore')"
   ]
  },
  {
   "cell_type": "markdown",
   "metadata": {},
   "source": [
    "<a name='1'></a>\n",
    "\n",
    "## (1) Data Loading"
   ]
  },
  {
   "cell_type": "code",
   "execution_count": 2,
   "metadata": {},
   "outputs": [
    {
     "name": "stdout",
     "output_type": "stream",
     "text": [
      "Number of Artists: 734\n"
     ]
    }
   ],
   "source": [
    "meta_data_path = os.path.join(\"..\",\"..\", \"Data\", \"wikiart\", \"meta\")\n",
    "root_dir = os.path.join(\"..\", \"..\", \"Data\", \"wikiart\", \"images\")\n",
    "csv_path = os.path.join(\"..\", \"..\", \"Data\", \"wikiart.csv\")\n",
    "\n",
    "meta_dictionary = {}\n",
    "\n",
    "for artist in os.listdir(meta_data_path):\n",
    "    artist_path = os.path.join(meta_data_path, artist)\n",
    "    \n",
    "    try:\n",
    "        with open(artist_path, \"rb\") as file:\n",
    "            json_file = json.load(file)\n",
    "            artist = artist.split('.')[0]\n",
    "            meta_dictionary[artist] = {}\n",
    "\n",
    "            for i, artwork in enumerate(json_file):\n",
    "                meta_dictionary[artist][i] = {}\n",
    "                for j, feature in enumerate(artwork):\n",
    "                    if feature == \"image\":\n",
    "                        artwork[feature] = artwork[feature][:-10]\n",
    "\n",
    "                    meta_dictionary[artist][i][feature] = artwork[feature]\n",
    "                    \n",
    "    except:\n",
    "        pass\n",
    "                \n",
    "print(f\"Number of Artists: {len(meta_dictionary)}\")"
   ]
  },
  {
   "cell_type": "markdown",
   "metadata": {},
   "source": [
    "<a name='2'></a>\n",
    "\n",
    "## (2) Generate Pandas DataFrame"
   ]
  },
  {
   "cell_type": "code",
   "execution_count": 3,
   "metadata": {},
   "outputs": [],
   "source": [
    "important_features = ['contentId', 'artistName', 'artistUrl','yearAsString', 'style', 'genre', 'tags', 'url']"
   ]
  },
  {
   "cell_type": "code",
   "execution_count": null,
   "metadata": {},
   "outputs": [],
   "source": [
    "try:\n",
    "    \n",
    "    df = pd.read_csv(csv_path)\n",
    "    print(f\"DataFrame successfully loaded. Dataframe Shape: {df.shape}\")\n",
    "except:\n",
    "    \n",
    "    # prepare unique features for the pandas df\n",
    "    features = []\n",
    "    for artist in meta_dictionary:\n",
    "        for art in meta_dictionary[artist]:\n",
    "            feats = list(meta_dictionary[artist][art].keys())\n",
    "            features = np.concatenate([features, feats])\n",
    "\n",
    "    unique_features = np.unique(features)\n",
    "    print(f\"Unique Features: {len(unique_features)}\")\n",
    "    \n",
    "    # create pandas df based on that\n",
    "    df = pd.DataFrame(columns=unique_features)\n",
    "\n",
    "    # fill in features if it exist\n",
    "    for artist in meta_dictionary:\n",
    "        for art in meta_dictionary[artist]:\n",
    "            feats = meta_dictionary[artist][art]\n",
    "            df = df.append(feats, ignore_index=True)\n",
    "\n",
    "    # Preprocessing\n",
    "    df = df.replace('', np.nan)\n",
    "    df = df.replace('None','')\n",
    "    \n",
    "    cleaned_df = pd.concat([df[important_features], df['style'].str.split(',', expand=True).rename(columns={0: \"Style_1\", 1: 'Style_2'})], axis=1).drop(columns=['style']).copy()\n",
    "    \n",
    "    cleaned_df = cleaned_df.dropna(subset=[\"Style_1\", \"genre\"]).copy()\n",
    "\n",
    "    cleaned_df['Style_1'] = cleaned_df['Style_1'].astype(str).str.strip()\n",
    "    cleaned_df['Style_2'] = cleaned_df['Style_2'].astype(str).str.strip()\n",
    "\n",
    "    cleaned_df.loc[cleaned_df['Style_1'].str.contains('Neo-Pop Art'), \"Style_1\"] = \"Pop Art\"\n",
    "    cleaned_df.loc[cleaned_df['Style_2'].str.contains('Neo-Pop Art'), \"Style_2\"] = \"Pop Art\"\n",
    "    cleaned_df['genre'] = cleaned_df['genre'].apply(lambda x: x.split(',')[0])\n",
    "    cleaned_df = cleaned_df.drop(\"Style_2\", axis=1).rename(columns={\"Style_1\": \"style\"}).copy()\n",
    "\n",
    "    # for dataloader\n",
    "    cleaned_df['path'] = cleaned_df.apply(lambda x: str(x['artistUrl']) + \"/\" + str(x['yearAsString']) + \"/\" + str(x['contentId']) + \".jpg\", axis=1)\n",
    "    cleaned_df.drop([\"contentId\", \"artistUrl\", \"url\", \"yearAsString\"], axis=1, inplace=True)\n",
    "    print(f\"Dataset successfully generated: DataFrame Shape: {df.shape}\")"
   ]
  },
  {
   "cell_type": "markdown",
   "metadata": {},
   "source": [
    "<a name='3'></a>\n",
    "\n",
    "## (3) Check if image exists"
   ]
  },
  {
   "cell_type": "code",
   "execution_count": null,
   "metadata": {},
   "outputs": [],
   "source": [
    "dropped_df = cleaned_df.copy()\n",
    "dropped_df = dropped_df.reset_index().drop('index', axis=1)\n",
    "\n",
    "print(f\"DataFrame shape before drop: {cleaned_df.shape}\")\n",
    "\n",
    "for i, filename in enumerate(cleaned_df['path']):\n",
    "    path = os.path.join(root_dir, filename)\n",
    "    \n",
    "    if not os.path.isfile(path):\n",
    "        dropped_df.drop(index=i, inplace=True)\n",
    "        \n",
    "print(f\"DataFrame shape after drop: {dropped_df.shape}\")"
   ]
  },
  {
   "cell_type": "code",
   "execution_count": 32,
   "metadata": {},
   "outputs": [
    {
     "name": "stdout",
     "output_type": "stream",
     "text": [
      "DataFrame successfully saved.\n"
     ]
    }
   ],
   "source": [
    "df = dropped_df.copy()\n",
    "df.to_csv(csv_path, index=False)\n",
    "print(\"DataFrame successfully saved.\")"
   ]
  },
  {
   "cell_type": "markdown",
   "metadata": {},
   "source": [
    "<a name='4'></a>\n",
    "\n",
    "## (4) Data Analysis"
   ]
  },
  {
   "cell_type": "code",
   "execution_count": 34,
   "metadata": {},
   "outputs": [
    {
     "name": "stdout",
     "output_type": "stream",
     "text": [
      "artistName - Number of unique features: 557\n",
      "genre - Number of unique features: 52\n",
      "tags - Number of unique features: 12501\n",
      "style - Number of unique features: 133\n",
      "path - Number of unique features: 23205\n"
     ]
    }
   ],
   "source": [
    "important_features = df.columns\n",
    "\n",
    "for feature in important_features:\n",
    "    print(f\"{feature} - Number of unique features: {len(df[feature].unique())}\")"
   ]
  },
  {
   "cell_type": "code",
   "execution_count": 35,
   "metadata": {},
   "outputs": [],
   "source": [
    "images_per_artist = []\n",
    "\n",
    "for artist in meta_dictionary:\n",
    "    images_per_artist.append(len(artist))"
   ]
  },
  {
   "cell_type": "markdown",
   "metadata": {},
   "source": [
    "<a name='4.1'></a>\n",
    "\n",
    "### (4.1) Artworks distribution"
   ]
  },
  {
   "cell_type": "code",
   "execution_count": 36,
   "metadata": {},
   "outputs": [
    {
     "data": {
      "image/png": "[encoded data removed]",
      "text/plain": [
       "<Figure size 432x288 with 1 Axes>"
      ]
     },
     "metadata": {
      "needs_background": "light"
     },
     "output_type": "display_data"
    }
   ],
   "source": [
    "plt.hist(images_per_artist)\n",
    "plt.xlabel(\"Number of Artworks per Artist\")\n",
    "plt.ylabel(\"Count\")\n",
    "plt.title(\"Distribution of Artworks per Artist\")\n",
    "plt.show()"
   ]
  },
  {
   "cell_type": "markdown",
   "metadata": {},
   "source": [
    "<a name='4.2'></a>\n",
    "\n",
    "### (4.2) Year distribution"
   ]
  },
  {
   "cell_type": "code",
   "execution_count": 43,
   "metadata": {},
   "outputs": [
    {
     "data": {
      "image/png": "[encoded data removed]",
      "text/plain": [
       "<Figure size 1080x360 with 1 Axes>"
      ]
     },
     "metadata": {
      "needs_background": "light"
     },
     "output_type": "display_data"
    }
   ],
   "source": [
    "data = df['path'].apply(lambda x: x.split(\"/\")[1]).dropna().astype(int)\n",
    "binwidth = 10\n",
    "\n",
    "plt.figure(figsize=(15,5))\n",
    "plt.hist(data, bins=range(min(data), max(data) + binwidth, binwidth))\n",
    "plt.xticks(np.arange(min(data), max(data)+1, 50))\n",
    "plt.xlim(1400, 2020)\n",
    "plt.xlabel(\"Year\")\n",
    "plt.ylabel(\"Count\")\n",
    "plt.title(\"Distribution of Artworks by Year starting from the 15th Century\")\n",
    "plt.show()"
   ]
  },
  {
   "cell_type": "markdown",
   "metadata": {},
   "source": [
    "<a name='4.3'></a>\n",
    "\n",
    "### (4.3) Style distribution"
   ]
  },
  {
   "cell_type": "code",
   "execution_count": null,
   "metadata": {},
   "outputs": [],
   "source": [
    "style_count_df = df['style'].value_counts()\n",
    "\n",
    "data = style_count_df\n",
    "binwidth = 50\n",
    "\n",
    "plt.figure(figsize=(15,5))\n",
    "plt.hist(data, bins=range(min(data), max(data) + binwidth, binwidth))\n",
    "plt.xticks(np.arange(min(data)-1, max(data), 50))\n",
    "plt.xlim(1, 500)\n",
    "plt.xlabel(\"Amount of the style\")\n",
    "plt.ylabel(\"Count\")\n",
    "plt.title(\"Distribution of styles [0 to 500] different styles\")\n",
    "plt.show()"
   ]
  },
  {
   "cell_type": "code",
   "execution_count": 56,
   "metadata": {},
   "outputs": [
    {
     "data": {
      "image/png": "[encoded data removed]",
      "text/plain": [
       "<Figure size 1080x360 with 1 Axes>"
      ]
     },
     "metadata": {
      "needs_background": "light"
     },
     "output_type": "display_data"
    }
   ],
   "source": [
    "data = style_count_df\n",
    "binwidth = 50\n",
    "\n",
    "plt.figure(figsize=(15,5))\n",
    "plt.hist(data, bins=range(min(data), max(data) + binwidth, binwidth))\n",
    "plt.xticks(np.arange(min(data)-1, max(data), 100))\n",
    "plt.xlim(500, 3000)\n",
    "plt.ylim(0, 5)\n",
    "plt.xlabel(\"Amount of the style\")\n",
    "plt.ylabel(\"Count\")\n",
    "plt.title(\"Distribution of styles [500 to 2000] different styles\")\n",
    "plt.show()"
   ]
  },
  {
   "cell_type": "markdown",
   "metadata": {},
   "source": [
    "<a name='4.4'></a>\n",
    "\n",
    "### (4.4) Genre distribution"
   ]
  },
  {
   "cell_type": "code",
   "execution_count": 59,
   "metadata": {},
   "outputs": [
    {
     "data": {
      "image/png": "[encoded data removed]",
      "text/plain": [
       "<Figure size 1080x360 with 1 Axes>"
      ]
     },
     "metadata": {
      "needs_background": "light"
     },
     "output_type": "display_data"
    }
   ],
   "source": [
    "genre_count_df = df['genre'].value_counts()\n",
    "data = genre_count_df\n",
    "binwidth = 50\n",
    "\n",
    "plt.figure(figsize=(15,5))\n",
    "plt.hist(data, bins=range(min(data), max(data) + binwidth, binwidth))\n",
    "plt.xticks(np.arange(min(data)-1, max(data), 50))\n",
    "plt.xlim(1, 500)\n",
    "plt.xlabel(\"Amount of genres\")\n",
    "plt.ylabel(\"Count\")\n",
    "plt.title(\"Distribution of genres [0 to 500] different styles\")\n",
    "plt.show()"
   ]
  },
  {
   "cell_type": "code",
   "execution_count": 60,
   "metadata": {},
   "outputs": [
    {
     "data": {
      "image/png": "[encoded data removed]",
      "text/plain": [
       "<Figure size 1080x360 with 1 Axes>"
      ]
     },
     "metadata": {
      "needs_background": "light"
     },
     "output_type": "display_data"
    }
   ],
   "source": [
    "binwidth = 50\n",
    "\n",
    "plt.figure(figsize=(15,5))\n",
    "plt.hist(data, bins=range(min(data), max(data) + binwidth, binwidth))\n",
    "plt.xticks(np.arange(min(data)-1, max(data), 100))\n",
    "plt.xlim(500, 2500)\n",
    "plt.ylim(0, 5)\n",
    "plt.xlabel(\"Amount of genres\")\n",
    "plt.ylabel(\"Count\")\n",
    "plt.title(\"Distribution of genres [500 to 2000] different styles\")\n",
    "plt.show()"
   ]
  },
  {
   "cell_type": "code",
   "execution_count": 61,
   "metadata": {},
   "outputs": [
    {
     "name": "stdout",
     "output_type": "stream",
     "text": [
      "Style_1 - Pop Art pictures in total: 407\n",
      "Style_1 - Pop Art variations in total: 1\n",
      "\n",
      "Poster occurence in genre: 77\n"
     ]
    }
   ],
   "source": [
    "style_df = df[df['style'].str.contains('Pop')]\n",
    "\n",
    "\n",
    "print(f\"Style_1 - Pop Art pictures in total: {len(style_df['style'])}\")\n",
    "print(f\"Style_1 - Pop Art variations in total: {len(np.unique(list(style_df['style'])))}\")\n",
    "print()\n",
    "print(f\"Poster occurence in genre: {len(df[df['genre'].str.contains('poster')])}\")"
   ]
  },
  {
   "cell_type": "markdown",
   "metadata": {},
   "source": [
    "<a name='5'></a>\n",
    "\n",
    "\n",
    "## (5) Conclusion:\n",
    "\n",
    "Most of the genres and styles occured less than 50 times in total for this entire dataset. We have a high class-imbalance problem. \n",
    "\n",
    "- **Import styles for posters are e.g. Pop-Art, which occures in total only 407 times in the dataset **\n",
    "- **Import genres for posters are e.g. poster, which occures in total only 77 times in the dataset **\n",
    "\n",
    "Therefore building a proper Train and Test set is very important.\n",
    "\n",
    "`Year`\n",
    "- Most pictures are from 1850 until 1900\n",
    "\n",
    "`Style`\n",
    "- The 5 most common genres are:\n",
    "    - Impressionism (2561)\n",
    "    - Neoclassicism (2183)\n",
    "    - Expressionism (2178)\n",
    "    - Realism (2136)\n",
    "    - Romanticism (2109)\n",
    "\n",
    "`Genre`\n",
    "- The 5 most common genres are:\n",
    "    - landscape (4999)\n",
    "    - portrait (4550)\n",
    "    - genre painting (3692)\t\n",
    "    - abstract (3484)\n",
    "    - religious painting (2368)\t"
   ]
  }
 ],
 "metadata": {
  "kernelspec": {
   "display_name": "PyTorch",
   "language": "python",
   "name": "pytorch"
  },
  "language_info": {
   "codemirror_mode": {
    "name": "ipython",
    "version": 3
   },
   "file_extension": ".py",
   "mimetype": "text/x-python",
   "name": "python",
   "nbconvert_exporter": "python",
   "pygments_lexer": "ipython3",
   "version": "3.9.7"
  }
 },
 "nbformat": 4,
 "nbformat_minor": 2
}
