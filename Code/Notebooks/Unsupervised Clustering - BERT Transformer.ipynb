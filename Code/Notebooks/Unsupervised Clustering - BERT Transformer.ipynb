{
 "cells": [
  {
   "cell_type": "code",
   "execution_count": 1,
   "id": "3495d326",
   "metadata": {},
   "outputs": [],
   "source": [
    "import pandas as pd\n",
    "import numpy as np\n",
    "import matplotlib.pyplot as plt\n",
    "\n",
    "import spacy\n",
    "from spacy_langdetect import LanguageDetector\n",
    "import easyocr\n",
    "import de_core_news_sm\n",
    "import en_core_web_sm\n",
    "from langdetect import detect, DetectorFactory\n",
    "DetectorFactory.seed = 0\n",
    "\n",
    "import re\n",
    "import string\n",
    "import sys\n",
    "from pathlib import Path\n",
    "\n",
    "import umap\n",
    "import hdbscan\n",
    "\n",
    "from bertopic import BERTopic\n",
    "from sentence_transformers import SentenceTransformer\n",
    "topic_model = BERTopic()\n",
    "\n",
    "import os\n",
    "os.environ[\"TOKENIZERS_PARALLELISM\"] = \"false\"\n",
    "\n",
    "reader = easyocr.Reader(['en', 'de'], gpu=True) \n",
    "\n",
    "module_path = str(Path.cwd().parents[0] / \"Scripts\")\n",
    "if module_path not in sys.path:\n",
    "    sys.path.append(module_path)\n",
    "\n",
    "from notebook_scripts import split_array"
   ]
  },
  {
   "cell_type": "markdown",
   "id": "88159583",
   "metadata": {},
   "source": [
    "## PATHS"
   ]
  },
  {
   "cell_type": "code",
   "execution_count": 2,
   "id": "af064162",
   "metadata": {},
   "outputs": [],
   "source": [
    "poster_text_df_path = \"../../Data/poster_text.csv\"\n",
    "corpus_df_path = \"../../Data/corpus.csv\""
   ]
  },
  {
   "cell_type": "markdown",
   "id": "abc8ef59",
   "metadata": {},
   "source": [
    "## CONSTANTS"
   ]
  },
  {
   "cell_type": "code",
   "execution_count": 11,
   "id": "81bd202f",
   "metadata": {},
   "outputs": [],
   "source": [
    "MODEL_NAME = 'multi-qa-MiniLM-L6-cos-v1'\n",
    "MIN_CLUSTER_SIZE = 5\n",
    "N_COMPONENTS = 15\n",
    "N_NEIGHBORS = 15\n",
    "NUMBER_WORDS = 5"
   ]
  },
  {
   "cell_type": "markdown",
   "id": "5bbc3288",
   "metadata": {},
   "source": [
    "## 1) Data"
   ]
  },
  {
   "cell_type": "code",
   "execution_count": 12,
   "id": "7f8fe6a6",
   "metadata": {},
   "outputs": [
    {
     "data": {
      "text/html": [
       "<div>\n",
       "<style scoped>\n",
       "    .dataframe tbody tr th:only-of-type {\n",
       "        vertical-align: middle;\n",
       "    }\n",
       "\n",
       "    .dataframe tbody tr th {\n",
       "        vertical-align: top;\n",
       "    }\n",
       "\n",
       "    .dataframe thead th {\n",
       "        text-align: right;\n",
       "    }\n",
       "</style>\n",
       "<table border=\"1\" class=\"dataframe\">\n",
       "  <thead>\n",
       "    <tr style=\"text-align: right;\">\n",
       "      <th></th>\n",
       "      <th>Path</th>\n",
       "      <th>Most_Likely</th>\n",
       "    </tr>\n",
       "  </thead>\n",
       "  <tbody>\n",
       "    <tr>\n",
       "      <th>0</th>\n",
       "      <td>../../Data/PlakateBayreuth/../../Data/PlakateB...</td>\n",
       "      <td>['FORUM', 'Kirchner', 'Das', 'expressionistisc...</td>\n",
       "    </tr>\n",
       "    <tr>\n",
       "      <th>1</th>\n",
       "      <td>../../Data/PlakateBayreuth/../../Data/PlakateB...</td>\n",
       "      <td>['SEST', 'I4', 'g', \" ' ^ .\", '1472', 'Das Pa ...</td>\n",
       "    </tr>\n",
       "    <tr>\n",
       "      <th>2</th>\n",
       "      <td>../../Data/PlakateBayreuth/../../Data/PlakateB...</td>\n",
       "      <td>['U', 'M 1 V R (; E R', 'KUNSTHALLE', 'LICHTWA...</td>\n",
       "    </tr>\n",
       "    <tr>\n",
       "      <th>3</th>\n",
       "      <td>../../Data/PlakateBayreuth/../../Data/PlakateB...</td>\n",
       "      <td>['PRIS O NS', 'AUSSTELLUNGE', 'DER FRIEDRICH-S...</td>\n",
       "    </tr>\n",
       "    <tr>\n",
       "      <th>4</th>\n",
       "      <td>../../Data/PlakateBayreuth/../../Data/PlakateB...</td>\n",
       "      <td>['Christoph Brech', \"it's about time\", '10 Mai...</td>\n",
       "    </tr>\n",
       "  </tbody>\n",
       "</table>\n",
       "</div>"
      ],
      "text/plain": [
       "                                                Path  \\\n",
       "0  ../../Data/PlakateBayreuth/../../Data/PlakateB...   \n",
       "1  ../../Data/PlakateBayreuth/../../Data/PlakateB...   \n",
       "2  ../../Data/PlakateBayreuth/../../Data/PlakateB...   \n",
       "3  ../../Data/PlakateBayreuth/../../Data/PlakateB...   \n",
       "4  ../../Data/PlakateBayreuth/../../Data/PlakateB...   \n",
       "\n",
       "                                         Most_Likely  \n",
       "0  ['FORUM', 'Kirchner', 'Das', 'expressionistisc...  \n",
       "1  ['SEST', 'I4', 'g', \" ' ^ .\", '1472', 'Das Pa ...  \n",
       "2  ['U', 'M 1 V R (; E R', 'KUNSTHALLE', 'LICHTWA...  \n",
       "3  ['PRIS O NS', 'AUSSTELLUNGE', 'DER FRIEDRICH-S...  \n",
       "4  ['Christoph Brech', \"it's about time\", '10 Mai...  "
      ]
     },
     "execution_count": 12,
     "metadata": {},
     "output_type": "execute_result"
    }
   ],
   "source": [
    "df = pd.read_csv(poster_text_df_path)\n",
    "df = df[[\"Path\", \"Most_Likely\"]]\n",
    "df[\"Most_Likely\"] = df[\"Most_Likely\"].apply(lambda x: ''.join(str(word) for word in x))\n",
    "df.head()"
   ]
  },
  {
   "cell_type": "code",
   "execution_count": 13,
   "id": "a7a1618a",
   "metadata": {},
   "outputs": [
    {
     "name": "stdout",
     "output_type": "stream",
     "text": [
      "Corpus Length: 17786\n"
     ]
    }
   ],
   "source": [
    "try:\n",
    "    corpus_df = df = pd.read_csv(corpus_df_path)\n",
    "    \n",
    "except:\n",
    "    print(\"No file found. Creating Corpus...\")\n",
    "    corpus = []\n",
    "\n",
    "    for i, row in enumerate(df[\"Most_Likely\"], 1):\n",
    "        cleaned_row = cleaner(row.split(\",\"))\n",
    "        corpus.append([cleaned_row])\n",
    "        if i % 1000 == 0:\n",
    "            print(f\"[{i}/{len(df)}] processed successfully.\")\n",
    "            \n",
    "    corpus_np = np.array(corpus)\n",
    "    corpus_df = pd.DataFrame(corpus_np, columns=[\"Text\"])\n",
    "    corpus_df.to_csv(corpus_df_path, ignore_index=True)\n",
    "  \n",
    "print(f\"Corpus Length: {len(corpus_df)}\")"
   ]
  },
  {
   "cell_type": "markdown",
   "id": "0b1c4ce2",
   "metadata": {},
   "source": [
    "### 1.1) Data Preprocessing"
   ]
  },
  {
   "cell_type": "code",
   "execution_count": 14,
   "id": "11490af8",
   "metadata": {},
   "outputs": [
    {
     "name": "stdout",
     "output_type": "stream",
     "text": [
      "Original Length: 17786 - Processed Length: 10663\n"
     ]
    }
   ],
   "source": [
    "processed_corpus_df = corpus_df[corpus_df[\"Text\"].apply(lambda x: split_array(x) > NUMBER_WORDS)]\n",
    "corpus = processed_corpus_df[\"Text\"].tolist()\n",
    "print(f\"Original Length: {len(corpus_df)} - Processed Length: {len(corpus)}\")"
   ]
  },
  {
   "cell_type": "markdown",
   "id": "03011c2a",
   "metadata": {},
   "source": [
    "## 2) Models\n",
    "- multi-qa-MiniLM-L6-cos-v1\n",
    "- distilbert-base-nli-mean-tokens\n",
    "- nq-distilbert-base-v1"
   ]
  },
  {
   "cell_type": "code",
   "execution_count": 15,
   "id": "8f94b66b",
   "metadata": {
    "scrolled": true
   },
   "outputs": [
    {
     "data": {
      "application/vnd.jupyter.widget-view+json": {
       "model_id": "3b4d0cbd7778440aa5b21e75943f69ba",
       "version_major": 2,
       "version_minor": 0
      },
      "text/plain": [
       "Batches:   0%|          | 0/334 [00:00<?, ?it/s]"
      ]
     },
     "metadata": {},
     "output_type": "display_data"
    }
   ],
   "source": [
    "model = SentenceTransformer(MODEL_NAME)\n",
    "embeddings = model.encode(corpus, show_progress_bar=True)\n",
    "embeddings = embeddings.reshape(-1, 1)"
   ]
  },
  {
   "cell_type": "code",
   "execution_count": null,
   "id": "919c8a21",
   "metadata": {},
   "outputs": [],
   "source": [
    "umap_embeddings = umap.UMAP(n_neighbors=N_NEIGHBORS, n_components=N_COMPONENTS, metric='cosine').fit_transform(embeddings)"
   ]
  },
  {
   "cell_type": "code",
   "execution_count": null,
   "id": "7fc1c025",
   "metadata": {},
   "outputs": [],
   "source": [
    "cluster = hdbscan.HDBSCAN(min_cluster_size=MIN_CLUSTER_SIZE, metric='euclidean',                      \n",
    "                          cluster_selection_method='eom').fit(umap_embeddings)"
   ]
  },
  {
   "cell_type": "code",
   "execution_count": null,
   "id": "12c842ba",
   "metadata": {},
   "outputs": [],
   "source": [
    "# Prepare data\n",
    "umap_data = umap.UMAP(n_neighbors=N_NEIGHBORS, \n",
    "                      n_components=N_COMPONENTS, \n",
    "                      min_dist=0.0, metric='cosine').fit_transform(embeddings)\n",
    "\n",
    "result = pd.DataFrame(umap_data, columns=['x', 'y'])\n",
    "result['labels'] = cluster.labels_\n",
    "\n",
    "# Visualize clusters\n",
    "fig, ax = plt.subplots(figsize=(20, 10))\n",
    "outliers = result.loc[result.labels == -1, :]\n",
    "clustered = result.loc[result.labels != -1, :]\n",
    "plt.scatter(outliers.x, outliers.y, color='#BDBDBD', s=0.05)\n",
    "plt.scatter(clustered.x, clustered.y, c=clustered.labels, s=0.5, cmap='hsv_r')\n",
    "plt.title(f\"Model: {model_name} | {n_components} Components | {min_cluster_size} Clusters | {n_neighbors} Neighbors\")\n",
    "plt.colorbar()\n",
    "plt.show()"
   ]
  },
  {
   "cell_type": "code",
   "execution_count": null,
   "id": "ea282d16",
   "metadata": {},
   "outputs": [],
   "source": []
  }
 ],
 "metadata": {
  "kernelspec": {
   "display_name": "PyTorch",
   "language": "python",
   "name": "pytorch"
  },
  "language_info": {
   "codemirror_mode": {
    "name": "ipython",
    "version": 3
   },
   "file_extension": ".py",
   "mimetype": "text/x-python",
   "name": "python",
   "nbconvert_exporter": "python",
   "pygments_lexer": "ipython3",
   "version": "3.9.7"
  }
 },
 "nbformat": 4,
 "nbformat_minor": 5
}
